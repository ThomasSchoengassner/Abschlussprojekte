{
 "cells": [
  {
   "cell_type": "markdown",
   "metadata": {},
   "source": [
    "## Vor- und Nachname: \n",
    "\n",
    "# Aufgabe 2: Praxis \n",
    "\n",
    "Die Teile 1 bis 6 betragen insgesamt 70 Punkte.\n",
    "\n",
    "Die 3 Bonus-Teile in dieser Aufgabe betragen insgesamt 30 Punkte, die zusaetzlich zu deiner Note hinzukommen koennen, als Bonus. Ich empfehle, erst die Hauptteile (1-6) zu behandeln. \n",
    "\n",
    "#### Tipp: Benutzen Sie die \"Kernel--> Restart & Run All\" Funktion von Jypyter vor Ihrer Abgabe, um sicherzustellen dass Ihr Code tatsaechlich funktioniert. Ihr koennen auch waehrend Ihrer Arbeit ab und zu diese Funktion benutzen um alle Variablen aus dem Memory wegzuloeschen und von vorne an wieder ausfuehren. \n",
    "\n",
    "#### Achtung: die Codes die Fehler ergeben und nicht durchgesetzt werden, werden nicht von mir debugged. "
   ]
  },
  {
   "cell_type": "markdown",
   "metadata": {},
   "source": [
    "## Beschreibung des Problems\n",
    "\n",
    "Ein Unternehmen hat eine Umfrage durchgeführt und Informationen über Kunden gesammelt, die ein bestimmtes Produkt gekauft haben, und über Kunden, die es nicht gekauft haben. Das Unternehmen möchte eine ML Modell erstellen, mit dessen Hilfe sie vorhersagen können, welche Kunden das Produkt in Zukunft voraussichtlich kaufen werden. Mit dieser Anwendung können sie beispielsweise ihre Werbestrategie entwerfen und optimieren. "
   ]
  },
  {
   "cell_type": "markdown",
   "metadata": {},
   "source": [
    "## Teil 1: Laden und Überprüfen von Datensatz Umfrage.csv (auf dem Laufwerk, unter Projektarbeit)\n",
    "Laden Sie den Datensatz Umfrage.csv (auf dem Laufwerk, unter Projektarbeit). Ziel ist es, die letzte Spalte (Label) in der CSV-Datei aus den vorherigen Spalten vorherzusagen.\n",
    "\n",
    "Durchsuchen Sie den Datensatz und printen Sie Informationen (oder schreiben Sie Text), indem Sie die folgenden Fragen beantworten:\n",
    "\n",
    "- Wie viele Datenpunkte haben wir? <br>\n",
    "  Wir haben 15000 Datenpunkte\n",
    "- Wie viele Features haben wir? <br>\n",
    "  Wir haben 7 Features: Name, Height, Weight, Drink, Age, Einkommen, PLZ \n",
    "- Was sind ihre Typen?\n",
    "  - Namen (categorical)\n",
    "  - Height (numerical)\n",
    "  - Weight (numerical)\n",
    "  - Drink (ordinal)\n",
    "  - Age (numerical)\n",
    "  - Einkommen (numerical)\n",
    "- Wie viele Klassen gibt es?\n",
    "  - Es gibt 2 Klassen\n",
    "- Was sind die möglichen Merkmalswerte (welche Werte kann jedes Feature haben)?\n",
    "  - Name (cathegorical): irrelevant\n",
    "  - Height (numerical): 151 - 201 \n",
    "  - Weight (numerical):  56 - 112\n",
    "  - Drink (ordinal): nein, gelegentlich, oft\n",
    "  - PLZ (cathegorical): irrelevant (00000 - 99999)<br>\n",
    "  - Einkommen (numerical): 0 - unendlich <br>\n",
    "  \n",
    "  - Siehe untn für speziell dieser Datensatz "
   ]
  },
  {
   "cell_type": "code",
   "execution_count": 1,
   "metadata": {},
   "outputs": [],
   "source": [
    "# Einbinden von Bibliotheken\n",
    "import numpy as np\n",
    "import pandas as pd\n",
    "import time\n",
    "\n",
    "from matplotlib import pyplot as plt\n",
    "import seaborn as sns\n",
    "from mpl_toolkits.mplot3d import Axes3D\n",
    "\n",
    "from sklearn.neighbors import KNeighborsClassifier\n",
    "from sklearn.linear_model import LogisticRegression\n",
    "from sklearn.ensemble import RandomForestClassifier\n",
    "from sklearn.naive_bayes import GaussianNB\n",
    "from sklearn.preprocessing import MinMaxScaler\n",
    "\n",
    "from sklearn.model_selection import GridSearchCV, KFold\n",
    "\n",
    "from sklearn.model_selection import train_test_split\n",
    "from sklearn.metrics import accuracy_score, f1_score\n",
    "from sklearn.metrics import confusion_matrix"
   ]
  },
  {
   "cell_type": "code",
   "execution_count": 2,
   "metadata": {},
   "outputs": [
    {
     "data": {
      "text/html": [
       "<div>\n",
       "<style scoped>\n",
       "    .dataframe tbody tr th:only-of-type {\n",
       "        vertical-align: middle;\n",
       "    }\n",
       "\n",
       "    .dataframe tbody tr th {\n",
       "        vertical-align: top;\n",
       "    }\n",
       "\n",
       "    .dataframe thead th {\n",
       "        text-align: right;\n",
       "    }\n",
       "</style>\n",
       "<table border=\"1\" class=\"dataframe\">\n",
       "  <thead>\n",
       "    <tr style=\"text-align: right;\">\n",
       "      <th></th>\n",
       "      <th>Name</th>\n",
       "      <th>Height</th>\n",
       "      <th>Weight</th>\n",
       "      <th>Drink</th>\n",
       "      <th>Age</th>\n",
       "      <th>PLZ</th>\n",
       "      <th>Einkommen</th>\n",
       "      <th>Kaeufer</th>\n",
       "    </tr>\n",
       "  </thead>\n",
       "  <tbody>\n",
       "    <tr>\n",
       "      <th>0</th>\n",
       "      <td>Unbekannt</td>\n",
       "      <td>165</td>\n",
       "      <td>102</td>\n",
       "      <td>Nein</td>\n",
       "      <td>35</td>\n",
       "      <td>16487</td>\n",
       "      <td>57098</td>\n",
       "      <td>Ja</td>\n",
       "    </tr>\n",
       "    <tr>\n",
       "      <th>1</th>\n",
       "      <td>Unbekannt</td>\n",
       "      <td>198</td>\n",
       "      <td>61</td>\n",
       "      <td>Oft</td>\n",
       "      <td>47</td>\n",
       "      <td>45252</td>\n",
       "      <td>77040</td>\n",
       "      <td>Ja</td>\n",
       "    </tr>\n",
       "    <tr>\n",
       "      <th>2</th>\n",
       "      <td>Unbekannt</td>\n",
       "      <td>191</td>\n",
       "      <td>68</td>\n",
       "      <td>Oft</td>\n",
       "      <td>73</td>\n",
       "      <td>75815</td>\n",
       "      <td>57805</td>\n",
       "      <td>Ja</td>\n",
       "    </tr>\n",
       "    <tr>\n",
       "      <th>3</th>\n",
       "      <td>Unbekannt</td>\n",
       "      <td>168</td>\n",
       "      <td>100</td>\n",
       "      <td>Nein</td>\n",
       "      <td>66</td>\n",
       "      <td>52188</td>\n",
       "      <td>62749</td>\n",
       "      <td>Nein</td>\n",
       "    </tr>\n",
       "    <tr>\n",
       "      <th>4</th>\n",
       "      <td>Unbekannt</td>\n",
       "      <td>188</td>\n",
       "      <td>94</td>\n",
       "      <td>Nein</td>\n",
       "      <td>60</td>\n",
       "      <td>80761</td>\n",
       "      <td>55282</td>\n",
       "      <td>Nein</td>\n",
       "    </tr>\n",
       "    <tr>\n",
       "      <th>5</th>\n",
       "      <td>Unbekannt</td>\n",
       "      <td>179</td>\n",
       "      <td>82</td>\n",
       "      <td>Gelegentlich</td>\n",
       "      <td>33</td>\n",
       "      <td>43389</td>\n",
       "      <td>61841</td>\n",
       "      <td>Ja</td>\n",
       "    </tr>\n",
       "    <tr>\n",
       "      <th>6</th>\n",
       "      <td>Unbekannt</td>\n",
       "      <td>152</td>\n",
       "      <td>106</td>\n",
       "      <td>Nein</td>\n",
       "      <td>68</td>\n",
       "      <td>68510</td>\n",
       "      <td>44468</td>\n",
       "      <td>Nein</td>\n",
       "    </tr>\n",
       "    <tr>\n",
       "      <th>7</th>\n",
       "      <td>Unbekannt</td>\n",
       "      <td>172</td>\n",
       "      <td>79</td>\n",
       "      <td>Oft</td>\n",
       "      <td>61</td>\n",
       "      <td>34385</td>\n",
       "      <td>24842</td>\n",
       "      <td>Ja</td>\n",
       "    </tr>\n",
       "    <tr>\n",
       "      <th>8</th>\n",
       "      <td>Unbekannt</td>\n",
       "      <td>152</td>\n",
       "      <td>93</td>\n",
       "      <td>Nein</td>\n",
       "      <td>54</td>\n",
       "      <td>19296</td>\n",
       "      <td>32904</td>\n",
       "      <td>Ja</td>\n",
       "    </tr>\n",
       "    <tr>\n",
       "      <th>9</th>\n",
       "      <td>Unbekannt</td>\n",
       "      <td>190</td>\n",
       "      <td>110</td>\n",
       "      <td>Gelegentlich</td>\n",
       "      <td>31</td>\n",
       "      <td>50418</td>\n",
       "      <td>109872</td>\n",
       "      <td>Nein</td>\n",
       "    </tr>\n",
       "    <tr>\n",
       "      <th>10</th>\n",
       "      <td>Unbekannt</td>\n",
       "      <td>200</td>\n",
       "      <td>73</td>\n",
       "      <td>Nein</td>\n",
       "      <td>60</td>\n",
       "      <td>58178</td>\n",
       "      <td>34054</td>\n",
       "      <td>Ja</td>\n",
       "    </tr>\n",
       "    <tr>\n",
       "      <th>11</th>\n",
       "      <td>Unbekannt</td>\n",
       "      <td>185</td>\n",
       "      <td>97</td>\n",
       "      <td>Nein</td>\n",
       "      <td>62</td>\n",
       "      <td>27483</td>\n",
       "      <td>48058</td>\n",
       "      <td>Ja</td>\n",
       "    </tr>\n",
       "    <tr>\n",
       "      <th>12</th>\n",
       "      <td>Unbekannt</td>\n",
       "      <td>190</td>\n",
       "      <td>98</td>\n",
       "      <td>Gelegentlich</td>\n",
       "      <td>43</td>\n",
       "      <td>11328</td>\n",
       "      <td>49673</td>\n",
       "      <td>Ja</td>\n",
       "    </tr>\n",
       "    <tr>\n",
       "      <th>13</th>\n",
       "      <td>Unbekannt</td>\n",
       "      <td>181</td>\n",
       "      <td>66</td>\n",
       "      <td>Gelegentlich</td>\n",
       "      <td>48</td>\n",
       "      <td>23649</td>\n",
       "      <td>108916</td>\n",
       "      <td>Nein</td>\n",
       "    </tr>\n",
       "    <tr>\n",
       "      <th>14</th>\n",
       "      <td>Unbekannt</td>\n",
       "      <td>165</td>\n",
       "      <td>88</td>\n",
       "      <td>Nein</td>\n",
       "      <td>53</td>\n",
       "      <td>14903</td>\n",
       "      <td>36029</td>\n",
       "      <td>Ja</td>\n",
       "    </tr>\n",
       "    <tr>\n",
       "      <th>15</th>\n",
       "      <td>Unbekannt</td>\n",
       "      <td>188</td>\n",
       "      <td>59</td>\n",
       "      <td>Gelegentlich</td>\n",
       "      <td>57</td>\n",
       "      <td>54829</td>\n",
       "      <td>37434</td>\n",
       "      <td>Ja</td>\n",
       "    </tr>\n",
       "    <tr>\n",
       "      <th>16</th>\n",
       "      <td>Unbekannt</td>\n",
       "      <td>186</td>\n",
       "      <td>94</td>\n",
       "      <td>Oft</td>\n",
       "      <td>39</td>\n",
       "      <td>47384</td>\n",
       "      <td>62753</td>\n",
       "      <td>Ja</td>\n",
       "    </tr>\n",
       "    <tr>\n",
       "      <th>17</th>\n",
       "      <td>Unbekannt</td>\n",
       "      <td>173</td>\n",
       "      <td>93</td>\n",
       "      <td>Nein</td>\n",
       "      <td>31</td>\n",
       "      <td>45625</td>\n",
       "      <td>43206</td>\n",
       "      <td>Ja</td>\n",
       "    </tr>\n",
       "    <tr>\n",
       "      <th>18</th>\n",
       "      <td>Unbekannt</td>\n",
       "      <td>172</td>\n",
       "      <td>64</td>\n",
       "      <td>Oft</td>\n",
       "      <td>64</td>\n",
       "      <td>32660</td>\n",
       "      <td>75031</td>\n",
       "      <td>Ja</td>\n",
       "    </tr>\n",
       "    <tr>\n",
       "      <th>19</th>\n",
       "      <td>Unbekannt</td>\n",
       "      <td>159</td>\n",
       "      <td>106</td>\n",
       "      <td>Gelegentlich</td>\n",
       "      <td>74</td>\n",
       "      <td>45369</td>\n",
       "      <td>52297</td>\n",
       "      <td>Nein</td>\n",
       "    </tr>\n",
       "  </tbody>\n",
       "</table>\n",
       "</div>"
      ],
      "text/plain": [
       "         Name  Height  Weight         Drink  Age    PLZ  Einkommen Kaeufer\n",
       "0   Unbekannt     165     102          Nein   35  16487      57098      Ja\n",
       "1   Unbekannt     198      61           Oft   47  45252      77040      Ja\n",
       "2   Unbekannt     191      68           Oft   73  75815      57805      Ja\n",
       "3   Unbekannt     168     100          Nein   66  52188      62749    Nein\n",
       "4   Unbekannt     188      94          Nein   60  80761      55282    Nein\n",
       "5   Unbekannt     179      82  Gelegentlich   33  43389      61841      Ja\n",
       "6   Unbekannt     152     106          Nein   68  68510      44468    Nein\n",
       "7   Unbekannt     172      79           Oft   61  34385      24842      Ja\n",
       "8   Unbekannt     152      93          Nein   54  19296      32904      Ja\n",
       "9   Unbekannt     190     110  Gelegentlich   31  50418     109872    Nein\n",
       "10  Unbekannt     200      73          Nein   60  58178      34054      Ja\n",
       "11  Unbekannt     185      97          Nein   62  27483      48058      Ja\n",
       "12  Unbekannt     190      98  Gelegentlich   43  11328      49673      Ja\n",
       "13  Unbekannt     181      66  Gelegentlich   48  23649     108916    Nein\n",
       "14  Unbekannt     165      88          Nein   53  14903      36029      Ja\n",
       "15  Unbekannt     188      59  Gelegentlich   57  54829      37434      Ja\n",
       "16  Unbekannt     186      94           Oft   39  47384      62753      Ja\n",
       "17  Unbekannt     173      93          Nein   31  45625      43206      Ja\n",
       "18  Unbekannt     172      64           Oft   64  32660      75031      Ja\n",
       "19  Unbekannt     159     106  Gelegentlich   74  45369      52297    Nein"
      ]
     },
     "execution_count": 2,
     "metadata": {},
     "output_type": "execute_result"
    }
   ],
   "source": [
    "# Einlesen und Kennenlernen der Daten\n",
    "df = pd.read_csv('umfrage.csv')\n",
    "df.head(20)"
   ]
  },
  {
   "cell_type": "code",
   "execution_count": 3,
   "metadata": {},
   "outputs": [
    {
     "name": "stdout",
     "output_type": "stream",
     "text": [
      "<class 'pandas.core.frame.DataFrame'>\n",
      "RangeIndex: 15000 entries, 0 to 14999\n",
      "Data columns (total 8 columns):\n",
      " #   Column     Non-Null Count  Dtype \n",
      "---  ------     --------------  ----- \n",
      " 0   Name       15000 non-null  object\n",
      " 1   Height     15000 non-null  int64 \n",
      " 2   Weight     15000 non-null  int64 \n",
      " 3   Drink      15000 non-null  object\n",
      " 4   Age        15000 non-null  int64 \n",
      " 5   PLZ        15000 non-null  int64 \n",
      " 6   Einkommen  15000 non-null  int64 \n",
      " 7   Kaeufer    15000 non-null  object\n",
      "dtypes: int64(5), object(3)\n",
      "memory usage: 937.6+ KB\n"
     ]
    }
   ],
   "source": [
    "# Informationen über Länge, Features und Datenqualität\n",
    "df.info()"
   ]
  },
  {
   "cell_type": "code",
   "execution_count": 4,
   "metadata": {},
   "outputs": [
    {
     "name": "stdout",
     "output_type": "stream",
     "text": [
      "(15000, 8)\n",
      "Wir haben 15000 Datenpunkte\n",
      "Wir haben 7 Features\n"
     ]
    }
   ],
   "source": [
    "# Datenpunkte, Features \n",
    "print(df.shape)\n",
    "print(\"Wir haben {} Datenpunkte\".format(df.shape[0]))\n",
    "print(\"Wir haben {} Features\".format(df.shape[1]-1))"
   ]
  },
  {
   "cell_type": "code",
   "execution_count": 5,
   "metadata": {},
   "outputs": [],
   "source": [
    "def investigate_dataframe(df):\n",
    "    \"\"\"\n",
    "    Diese Funktion erstellt eine Zusammenfassung der Attribute einer Datenbanke\n",
    "    Diese beinhaltet statistische Parameter für numerische Daten (Minimum, Maximum\n",
    "    Mittelwert und Standard Abweichung) sowie Datenlänge, Fehlwerte,\n",
    "    relativer Anteil der Fehlwerte, Anazhl verschiedener Werte und Datentyp\n",
    "    \"\"\"\n",
    "    df2 = pd.DataFrame(index=['Minimum','Maximum','Average','Std.Dev.',\n",
    "                               'Size','#NA', 'ratioNA', '#Uniques', 'dtypes'])\n",
    "    numeric_types = [np.int, np.int8, np.int16, np.int32, np.int64,\n",
    "                     np.float, np.float16, np.float32, np.float64 ]\n",
    "    for c in df.columns:\n",
    "        nval = len(df[c])\n",
    "        nnan = df[c].isna().sum()\n",
    "        rnan = round(nnan/nval,4)\n",
    "        if df[c].dtypes in numeric_types:\n",
    "            df2[c] = ([df[c].min(), df[c].max(), df[c].mean(), df[c].std(),\n",
    "                       nval, nnan, rnan, df[c].nunique(),df[c].dtypes])\n",
    "        else:\n",
    "            df2[c] = ([np.nan, np.nan, np.nan, np.nan,\n",
    "                       nval, nnan, rnan, df[c].nunique(),df[c].dtypes])\n",
    "    return df2"
   ]
  },
  {
   "cell_type": "code",
   "execution_count": 6,
   "metadata": {
    "scrolled": true
   },
   "outputs": [
    {
     "data": {
      "text/html": [
       "<div>\n",
       "<style scoped>\n",
       "    .dataframe tbody tr th:only-of-type {\n",
       "        vertical-align: middle;\n",
       "    }\n",
       "\n",
       "    .dataframe tbody tr th {\n",
       "        vertical-align: top;\n",
       "    }\n",
       "\n",
       "    .dataframe thead th {\n",
       "        text-align: right;\n",
       "    }\n",
       "</style>\n",
       "<table border=\"1\" class=\"dataframe\">\n",
       "  <thead>\n",
       "    <tr style=\"text-align: right;\">\n",
       "      <th></th>\n",
       "      <th>Name</th>\n",
       "      <th>Height</th>\n",
       "      <th>Weight</th>\n",
       "      <th>Drink</th>\n",
       "      <th>Age</th>\n",
       "      <th>PLZ</th>\n",
       "      <th>Einkommen</th>\n",
       "      <th>Kaeufer</th>\n",
       "    </tr>\n",
       "  </thead>\n",
       "  <tbody>\n",
       "    <tr>\n",
       "      <th>Minimum</th>\n",
       "      <td>NaN</td>\n",
       "      <td>151</td>\n",
       "      <td>56</td>\n",
       "      <td>NaN</td>\n",
       "      <td>25</td>\n",
       "      <td>10031</td>\n",
       "      <td>23003</td>\n",
       "      <td>NaN</td>\n",
       "    </tr>\n",
       "    <tr>\n",
       "      <th>Maximum</th>\n",
       "      <td>NaN</td>\n",
       "      <td>201</td>\n",
       "      <td>112</td>\n",
       "      <td>NaN</td>\n",
       "      <td>75</td>\n",
       "      <td>82999</td>\n",
       "      <td>109980</td>\n",
       "      <td>NaN</td>\n",
       "    </tr>\n",
       "    <tr>\n",
       "      <th>Average</th>\n",
       "      <td>NaN</td>\n",
       "      <td>175.939</td>\n",
       "      <td>84.0251</td>\n",
       "      <td>NaN</td>\n",
       "      <td>50.1189</td>\n",
       "      <td>46374.3</td>\n",
       "      <td>66378.3</td>\n",
       "      <td>NaN</td>\n",
       "    </tr>\n",
       "    <tr>\n",
       "      <th>Std.Dev.</th>\n",
       "      <td>NaN</td>\n",
       "      <td>14.5088</td>\n",
       "      <td>16.1165</td>\n",
       "      <td>NaN</td>\n",
       "      <td>14.4614</td>\n",
       "      <td>21054.4</td>\n",
       "      <td>25079.2</td>\n",
       "      <td>NaN</td>\n",
       "    </tr>\n",
       "    <tr>\n",
       "      <th>Size</th>\n",
       "      <td>15000</td>\n",
       "      <td>15000</td>\n",
       "      <td>15000</td>\n",
       "      <td>15000</td>\n",
       "      <td>15000</td>\n",
       "      <td>15000</td>\n",
       "      <td>15000</td>\n",
       "      <td>15000</td>\n",
       "    </tr>\n",
       "    <tr>\n",
       "      <th>#NA</th>\n",
       "      <td>0</td>\n",
       "      <td>0</td>\n",
       "      <td>0</td>\n",
       "      <td>0</td>\n",
       "      <td>0</td>\n",
       "      <td>0</td>\n",
       "      <td>0</td>\n",
       "      <td>0</td>\n",
       "    </tr>\n",
       "    <tr>\n",
       "      <th>ratioNA</th>\n",
       "      <td>0</td>\n",
       "      <td>0</td>\n",
       "      <td>0</td>\n",
       "      <td>0</td>\n",
       "      <td>0</td>\n",
       "      <td>0</td>\n",
       "      <td>0</td>\n",
       "      <td>0</td>\n",
       "    </tr>\n",
       "    <tr>\n",
       "      <th>#Uniques</th>\n",
       "      <td>1</td>\n",
       "      <td>51</td>\n",
       "      <td>57</td>\n",
       "      <td>3</td>\n",
       "      <td>51</td>\n",
       "      <td>13517</td>\n",
       "      <td>13831</td>\n",
       "      <td>2</td>\n",
       "    </tr>\n",
       "    <tr>\n",
       "      <th>dtypes</th>\n",
       "      <td>object</td>\n",
       "      <td>int64</td>\n",
       "      <td>int64</td>\n",
       "      <td>object</td>\n",
       "      <td>int64</td>\n",
       "      <td>int64</td>\n",
       "      <td>int64</td>\n",
       "      <td>object</td>\n",
       "    </tr>\n",
       "  </tbody>\n",
       "</table>\n",
       "</div>"
      ],
      "text/plain": [
       "            Name   Height   Weight   Drink      Age      PLZ Einkommen Kaeufer\n",
       "Minimum      NaN      151       56     NaN       25    10031     23003     NaN\n",
       "Maximum      NaN      201      112     NaN       75    82999    109980     NaN\n",
       "Average      NaN  175.939  84.0251     NaN  50.1189  46374.3   66378.3     NaN\n",
       "Std.Dev.     NaN  14.5088  16.1165     NaN  14.4614  21054.4   25079.2     NaN\n",
       "Size       15000    15000    15000   15000    15000    15000     15000   15000\n",
       "#NA            0        0        0       0        0        0         0       0\n",
       "ratioNA        0        0        0       0        0        0         0       0\n",
       "#Uniques       1       51       57       3       51    13517     13831       2\n",
       "dtypes    object    int64    int64  object    int64    int64     int64  object"
      ]
     },
     "execution_count": 6,
     "metadata": {},
     "output_type": "execute_result"
    }
   ],
   "source": [
    "# Wiviele Klassen haben wir? Wieviele Klassen gibt es im Label\n",
    "# Wie sind die Werte verteilt\n",
    "\n",
    "investigate_dataframe(df)\n",
    "# Wir haben 7 Features. \n",
    "# Das Label Kaeufer hat 2 Klassen."
   ]
  },
  {
   "cell_type": "markdown",
   "metadata": {},
   "source": [
    "## Teil 2: Bereiten Sie die Daten vor\n",
    "\n",
    "- Entfernen Sie unnötige Features (falls vorhanden)\n",
    "- Bei allen Datenpunkten sind alle Features vorhanden. Deswegen, brauchen Sie keine Imputation. \n",
    "- Codieren Sie kategoriale Features und Labels (Hinweis: Verwenden Sie pd.get_dummies)"
   ]
  },
  {
   "cell_type": "code",
   "execution_count": 7,
   "metadata": {},
   "outputs": [
    {
     "data": {
      "text/html": [
       "<div>\n",
       "<style scoped>\n",
       "    .dataframe tbody tr th:only-of-type {\n",
       "        vertical-align: middle;\n",
       "    }\n",
       "\n",
       "    .dataframe tbody tr th {\n",
       "        vertical-align: top;\n",
       "    }\n",
       "\n",
       "    .dataframe thead th {\n",
       "        text-align: right;\n",
       "    }\n",
       "</style>\n",
       "<table border=\"1\" class=\"dataframe\">\n",
       "  <thead>\n",
       "    <tr style=\"text-align: right;\">\n",
       "      <th></th>\n",
       "      <th>Height</th>\n",
       "      <th>Weight</th>\n",
       "      <th>Age</th>\n",
       "      <th>Einkommen</th>\n",
       "      <th>Drink_Nein</th>\n",
       "      <th>Drink_Oft</th>\n",
       "      <th>Kaeufer_Nein</th>\n",
       "    </tr>\n",
       "  </thead>\n",
       "  <tbody>\n",
       "    <tr>\n",
       "      <th>0</th>\n",
       "      <td>165</td>\n",
       "      <td>102</td>\n",
       "      <td>35</td>\n",
       "      <td>57098</td>\n",
       "      <td>1</td>\n",
       "      <td>0</td>\n",
       "      <td>0</td>\n",
       "    </tr>\n",
       "    <tr>\n",
       "      <th>1</th>\n",
       "      <td>198</td>\n",
       "      <td>61</td>\n",
       "      <td>47</td>\n",
       "      <td>77040</td>\n",
       "      <td>0</td>\n",
       "      <td>1</td>\n",
       "      <td>0</td>\n",
       "    </tr>\n",
       "    <tr>\n",
       "      <th>2</th>\n",
       "      <td>191</td>\n",
       "      <td>68</td>\n",
       "      <td>73</td>\n",
       "      <td>57805</td>\n",
       "      <td>0</td>\n",
       "      <td>1</td>\n",
       "      <td>0</td>\n",
       "    </tr>\n",
       "    <tr>\n",
       "      <th>3</th>\n",
       "      <td>168</td>\n",
       "      <td>100</td>\n",
       "      <td>66</td>\n",
       "      <td>62749</td>\n",
       "      <td>1</td>\n",
       "      <td>0</td>\n",
       "      <td>1</td>\n",
       "    </tr>\n",
       "    <tr>\n",
       "      <th>4</th>\n",
       "      <td>188</td>\n",
       "      <td>94</td>\n",
       "      <td>60</td>\n",
       "      <td>55282</td>\n",
       "      <td>1</td>\n",
       "      <td>0</td>\n",
       "      <td>1</td>\n",
       "    </tr>\n",
       "  </tbody>\n",
       "</table>\n",
       "</div>"
      ],
      "text/plain": [
       "   Height  Weight  Age  Einkommen  Drink_Nein  Drink_Oft  Kaeufer_Nein\n",
       "0     165     102   35      57098           1          0             0\n",
       "1     198      61   47      77040           0          1             0\n",
       "2     191      68   73      57805           0          1             0\n",
       "3     168     100   66      62749           1          0             1\n",
       "4     188      94   60      55282           1          0             1"
      ]
     },
     "execution_count": 7,
     "metadata": {},
     "output_type": "execute_result"
    }
   ],
   "source": [
    "# Auswahl der releventen Features\n",
    "# Name ist irrelevant weil dieser nur einen Wert hat und nichts aussagt, ob jemand kauft der nicht\n",
    "# PLZ ist eher irrelevant \n",
    "df_raw = df[['Height','Weight','Drink','Age','Einkommen', 'Kaeufer']]\n",
    "\n",
    "# kategorisierung des Features Drink und des Labels Käufer\n",
    "df_encoded = pd.get_dummies(df_raw,drop_first=True)\n",
    "\n",
    "# Datensatz wird in Features (x) und Labels (y) aufgeteil\n",
    "x = df_encoded.iloc[:,:-1]\n",
    "y = df_encoded.iloc[:,-1]\n",
    "\n",
    "df_encoded.head(5)"
   ]
  },
  {
   "cell_type": "code",
   "execution_count": 8,
   "metadata": {},
   "outputs": [
    {
     "data": {
      "text/html": [
       "<div>\n",
       "<style scoped>\n",
       "    .dataframe tbody tr th:only-of-type {\n",
       "        vertical-align: middle;\n",
       "    }\n",
       "\n",
       "    .dataframe tbody tr th {\n",
       "        vertical-align: top;\n",
       "    }\n",
       "\n",
       "    .dataframe thead th {\n",
       "        text-align: right;\n",
       "    }\n",
       "</style>\n",
       "<table border=\"1\" class=\"dataframe\">\n",
       "  <thead>\n",
       "    <tr style=\"text-align: right;\">\n",
       "      <th></th>\n",
       "      <th>Height</th>\n",
       "      <th>Weight</th>\n",
       "      <th>Age</th>\n",
       "      <th>Einkommen</th>\n",
       "      <th>Drink_Nein</th>\n",
       "      <th>Drink_Oft</th>\n",
       "    </tr>\n",
       "  </thead>\n",
       "  <tbody>\n",
       "    <tr>\n",
       "      <th>0</th>\n",
       "      <td>165</td>\n",
       "      <td>102</td>\n",
       "      <td>35</td>\n",
       "      <td>57098</td>\n",
       "      <td>1</td>\n",
       "      <td>0</td>\n",
       "    </tr>\n",
       "    <tr>\n",
       "      <th>1</th>\n",
       "      <td>198</td>\n",
       "      <td>61</td>\n",
       "      <td>47</td>\n",
       "      <td>77040</td>\n",
       "      <td>0</td>\n",
       "      <td>1</td>\n",
       "    </tr>\n",
       "    <tr>\n",
       "      <th>2</th>\n",
       "      <td>191</td>\n",
       "      <td>68</td>\n",
       "      <td>73</td>\n",
       "      <td>57805</td>\n",
       "      <td>0</td>\n",
       "      <td>1</td>\n",
       "    </tr>\n",
       "    <tr>\n",
       "      <th>3</th>\n",
       "      <td>168</td>\n",
       "      <td>100</td>\n",
       "      <td>66</td>\n",
       "      <td>62749</td>\n",
       "      <td>1</td>\n",
       "      <td>0</td>\n",
       "    </tr>\n",
       "    <tr>\n",
       "      <th>4</th>\n",
       "      <td>188</td>\n",
       "      <td>94</td>\n",
       "      <td>60</td>\n",
       "      <td>55282</td>\n",
       "      <td>1</td>\n",
       "      <td>0</td>\n",
       "    </tr>\n",
       "    <tr>\n",
       "      <th>...</th>\n",
       "      <td>...</td>\n",
       "      <td>...</td>\n",
       "      <td>...</td>\n",
       "      <td>...</td>\n",
       "      <td>...</td>\n",
       "      <td>...</td>\n",
       "    </tr>\n",
       "    <tr>\n",
       "      <th>14995</th>\n",
       "      <td>194</td>\n",
       "      <td>108</td>\n",
       "      <td>32</td>\n",
       "      <td>31762</td>\n",
       "      <td>0</td>\n",
       "      <td>0</td>\n",
       "    </tr>\n",
       "    <tr>\n",
       "      <th>14996</th>\n",
       "      <td>175</td>\n",
       "      <td>70</td>\n",
       "      <td>47</td>\n",
       "      <td>69843</td>\n",
       "      <td>1</td>\n",
       "      <td>0</td>\n",
       "    </tr>\n",
       "    <tr>\n",
       "      <th>14997</th>\n",
       "      <td>186</td>\n",
       "      <td>93</td>\n",
       "      <td>45</td>\n",
       "      <td>30662</td>\n",
       "      <td>0</td>\n",
       "      <td>0</td>\n",
       "    </tr>\n",
       "    <tr>\n",
       "      <th>14998</th>\n",
       "      <td>156</td>\n",
       "      <td>89</td>\n",
       "      <td>44</td>\n",
       "      <td>98756</td>\n",
       "      <td>0</td>\n",
       "      <td>1</td>\n",
       "    </tr>\n",
       "    <tr>\n",
       "      <th>14999</th>\n",
       "      <td>154</td>\n",
       "      <td>70</td>\n",
       "      <td>57</td>\n",
       "      <td>73087</td>\n",
       "      <td>1</td>\n",
       "      <td>0</td>\n",
       "    </tr>\n",
       "  </tbody>\n",
       "</table>\n",
       "<p>15000 rows × 6 columns</p>\n",
       "</div>"
      ],
      "text/plain": [
       "       Height  Weight  Age  Einkommen  Drink_Nein  Drink_Oft\n",
       "0         165     102   35      57098           1          0\n",
       "1         198      61   47      77040           0          1\n",
       "2         191      68   73      57805           0          1\n",
       "3         168     100   66      62749           1          0\n",
       "4         188      94   60      55282           1          0\n",
       "...       ...     ...  ...        ...         ...        ...\n",
       "14995     194     108   32      31762           0          0\n",
       "14996     175      70   47      69843           1          0\n",
       "14997     186      93   45      30662           0          0\n",
       "14998     156      89   44      98756           0          1\n",
       "14999     154      70   57      73087           1          0\n",
       "\n",
       "[15000 rows x 6 columns]"
      ]
     },
     "execution_count": 8,
     "metadata": {},
     "output_type": "execute_result"
    }
   ],
   "source": [
    "x"
   ]
  },
  {
   "cell_type": "code",
   "execution_count": 9,
   "metadata": {},
   "outputs": [
    {
     "data": {
      "image/png": "[encoded data removed]",
      "text/plain": [
       "<Figure size 864x864 with 4 Axes>"
      ]
     },
     "metadata": {
      "needs_background": "light"
     },
     "output_type": "display_data"
    }
   ],
   "source": [
    "# Untersuchung der Features, wie die Werte verteilt sind.\n",
    "fig, axs = plt.subplots(2,2,figsize=(12,12))\n",
    "axs[0,0].hist(x.iloc[:,0],bins=25,color='b')\n",
    "axs[0,0].set_title('Histogramm')\n",
    "axs[0,0].set_xlabel('Height')\n",
    "axs[0,1].hist(x.iloc[:,1],bins=25,color='b')\n",
    "axs[0,1].set_title('Histogramm')\n",
    "axs[0,1].set_xlabel('Weight')\n",
    "axs[1,0].hist(x.iloc[:,2],bins=25,color='b')\n",
    "axs[1,0].set_title('Histogramm')\n",
    "axs[1,0].set_xlabel('Age')\n",
    "axs[1,1].hist(x.iloc[:,3],bins=25,color='b')\n",
    "axs[1,1].set_title('Histogramm')\n",
    "axs[1,1].set_xlabel('Einkommen')\n",
    "plt.show()"
   ]
  },
  {
   "cell_type": "markdown",
   "metadata": {},
   "source": [
    "Die Daten der 4 Features sind annähern gleichverteil und haben ein Rauschen."
   ]
  },
  {
   "cell_type": "markdown",
   "metadata": {},
   "source": [
    "## Teil 3: Wählen Sie ein Modell\n",
    "\n",
    "Tipp: Beginnen Sie mit train_test_split (random_seed = 0) und verwenden Sie dann ein Modell (z. B. k-nn) und spielen Sie manuell mit seinen Hyperparametern. Überprüfen Sie, ob Sie gute Genauigkeitswerte erhalten können. Wenn nicht, verwenden Sie ein anderes Modell und wiederholen Sie den Vorgang, bis Sie glauben, ein gutes Modell zu haben.\n",
    "\n",
    "Hinweis: Versuchen Sie ein Tree-Modell, wie Random Forrest. Natuerlich koennen Sie auch andere Modelle benutzen. "
   ]
  },
  {
   "cell_type": "code",
   "execution_count": 10,
   "metadata": {},
   "outputs": [],
   "source": [
    "# Aufteilen des Datensates in einen Trainingsdatensatz und in einen Trainingsdatensatz\n",
    "\n",
    "x_train, x_test, y_train, y_test = train_test_split(x, y, test_size=0.2, random_state=0)"
   ]
  },
  {
   "cell_type": "code",
   "execution_count": 12,
   "metadata": {},
   "outputs": [
    {
     "data": {
      "image/png": "[encoded data removed]",
      "text/plain": [
       "<Figure size 432x288 with 1 Axes>"
      ]
     },
     "metadata": {
      "needs_background": "light"
     },
     "output_type": "display_data"
    }
   ],
   "source": [
    "# Skalierung der Features da die Werte einen sehr unterschiedlichen Wertebereich einnehmen\n",
    "# MinMaxScaler da die Daten gleichverteilt sind \n",
    "\n",
    "scaler = MinMaxScaler()\n",
    "scaler.fit(x_train)\n",
    "\n",
    "# Anwndung des Scalers auf die Features der Trainings- und der Testdaten\n",
    "\n",
    "x_train = scaler.transform(x_train)\n",
    "x_test = scaler.transform(x_test)\n",
    "\n",
    "# Grafische Überprüfung der skalierten Verteilung\n",
    "\n",
    "plt.subplot(1,1,1)\n",
    "plt.title('Einkommen Skaliert mit dem MinMaxScaler')\n",
    "plt.hist(x_train[:,3])\n",
    "plt.show()"
   ]
  },
  {
   "cell_type": "code",
   "execution_count": 14,
   "metadata": {},
   "outputs": [],
   "source": [
    "# Aufteilen des Trainingsdatensatzes in einem internen Trainings- und einem Validationsdatensatz\n",
    "\n",
    "xt, xv, yt, yv = train_test_split(x_train, y_train, test_size=0.2, random_state=0)"
   ]
  },
  {
   "cell_type": "code",
   "execution_count": 15,
   "metadata": {},
   "outputs": [
    {
     "name": "stdout",
     "output_type": "stream",
     "text": [
      "training and test accuracy: 0.817 0.743\n"
     ]
    }
   ],
   "source": [
    "# Einfacher k - nearest neighbor mit k=5\n",
    "\n",
    "knn = KNeighborsClassifier(n_neighbors=5)\n",
    "knn.fit(xt, yt)\n",
    "\n",
    "yt_pred = knn.predict(xt)\n",
    "yv_pred = knn.predict(xv)\n",
    "train_acc= accuracy_score(yt_pred, yt)\n",
    "test_acc= accuracy_score(yv_pred, yv)\n",
    "print(\"training and test accuracy: {:5.3f} {:5.3f}\".format(train_acc,test_acc))"
   ]
  },
  {
   "cell_type": "markdown",
   "metadata": {},
   "source": [
    "Leichtes Overfitting mit k=5. Beim Tunen des Hyperparameters k (Anzahl der Nachbarn) ist Potential"
   ]
  },
  {
   "cell_type": "code",
   "execution_count": 16,
   "metadata": {},
   "outputs": [
    {
     "name": "stdout",
     "output_type": "stream",
     "text": [
      "training and test accuracy: 1.000 0.794\n"
     ]
    }
   ],
   "source": [
    "# Standard Random Forest mit 100 Bäumen\n",
    "\n",
    "rf = RandomForestClassifier(n_estimators=100, min_samples_split=2, min_samples_leaf=1, random_state=0)\n",
    "rf.fit(xt, yt)\n",
    "\n",
    "yt_pred = rf.predict(xt)\n",
    "yv_pred = rf.predict(xv)\n",
    "train_acc= accuracy_score(yt_pred, yt)\n",
    "test_acc= accuracy_score(yv_pred, yv)\n",
    "print(\"training and test accuracy: {:5.3f} {:5.3f}\".format(train_acc,test_acc))"
   ]
  },
  {
   "cell_type": "markdown",
   "metadata": {},
   "source": [
    "sehr großes Overfitting. Die Hyperparameter müssen noch getunt werden. Hat wohl ein größeres Potential als Nearest Neighbor, da die Testgenauigkeit bereitS mit Standardwerten bei knapp 80% liegt."
   ]
  },
  {
   "cell_type": "code",
   "execution_count": 17,
   "metadata": {},
   "outputs": [
    {
     "name": "stdout",
     "output_type": "stream",
     "text": [
      "training and test accuracy: 0.685 0.700\n"
     ]
    }
   ],
   "source": [
    "# Logistic Regression mit Standard Werten\n",
    "\n",
    "lr = LogisticRegression(random_state = 0)\n",
    "lr.fit(xt, yt)\n",
    "\n",
    "yt_pred = lr.predict(xt)\n",
    "yv_pred = lr.predict(xv)\n",
    "train_acc= accuracy_score(yt_pred, yt)\n",
    "test_acc= accuracy_score(yv_pred, yv)\n",
    "print(\"training and test accuracy: {:5.3f} {:5.3f}\".format(train_acc,test_acc))"
   ]
  },
  {
   "cell_type": "markdown",
   "metadata": {},
   "source": [
    "Training und Testgenauigkeit sind beide recht niedrig. Das sieht nach underfiting aus. Man braucht ein komplexeres Modell"
   ]
  },
  {
   "cell_type": "markdown",
   "metadata": {},
   "source": [
    "Trotz overfittings, scheint random forest das größte Potential zu haben. Es liefert mit den Standardkonfigurationen der Hyperparameter die bisten Ergebnisse der drei Modelle. Deshalb fällt die Wahl auf den Random Forest Classifier."
   ]
  },
  {
   "cell_type": "markdown",
   "metadata": {},
   "source": [
    "## Teil 4: Overfitting und underfettinig\n",
    "\n",
    "Experimentieren Sie mit Hyperparametern, um eine Überanpassung (Overfitting) zu zeigen. Beschreiben Sie, was Sie getan und beobachtet haben.\n",
    "\n",
    "Weiterm, experimentieren Sie mit Hyperparametern, um eine Unteranpassung (Underfitting) zu zeigen. Beschreiben Sie, was Sie getan und beobachtet haben."
   ]
  },
  {
   "cell_type": "code",
   "execution_count": 18,
   "metadata": {},
   "outputs": [],
   "source": [
    "# Experimente mit der Minimalen Samplesize to split\n",
    "\n",
    "n_splits = [2, 5, 10, 15, 20, 30, 40, 50, 60, 70, 80]\n",
    "n = len(n_splits)\n",
    "train_acc = np.zeros((n),dtype=np.float32)\n",
    "test_acc = np.zeros((n),dtype=np.float32)"
   ]
  },
  {
   "cell_type": "code",
   "execution_count": 19,
   "metadata": {},
   "outputs": [
    {
     "name": "stdout",
     "output_type": "stream",
     "text": [
      "training and test accuracy for min_sample_splits=02: 0.999 0.793\n",
      "training and test accuracy for min_sample_splits=05: 0.957 0.795\n",
      "training and test accuracy for min_sample_splits=10: 0.876 0.800\n",
      "training and test accuracy for min_sample_splits=15: 0.839 0.805\n",
      "training and test accuracy for min_sample_splits=20: 0.824 0.803\n",
      "training and test accuracy for min_sample_splits=30: 0.817 0.806\n",
      "training and test accuracy for min_sample_splits=40: 0.816 0.805\n",
      "training and test accuracy for min_sample_splits=50: 0.815 0.806\n",
      "training and test accuracy for min_sample_splits=60: 0.815 0.806\n",
      "training and test accuracy for min_sample_splits=70: 0.815 0.806\n",
      "training and test accuracy for min_sample_splits=80: 0.815 0.805\n"
     ]
    }
   ],
   "source": [
    "for i in range(n):\n",
    "    rf = RandomForestClassifier(n_estimators=50, min_samples_split=n_splits[i], min_samples_leaf=1, random_state=0)\n",
    "    rf.fit(xt, yt)\n",
    "\n",
    "    yt_pred = rf.predict(xt)\n",
    "    yv_pred = rf.predict(xv)\n",
    "    train_acc[i] = accuracy_score(yt_pred, yt)\n",
    "    test_acc[i] = accuracy_score(yv_pred, yv)\n",
    "    print(\"training and test accuracy for min_sample_splits={:02.0f}: {:5.3f} {:5.3f}\".format(\n",
    "        n_splits[i], train_acc[i],test_acc[i]))"
   ]
  },
  {
   "cell_type": "code",
   "execution_count": 20,
   "metadata": {},
   "outputs": [
    {
     "data": {
      "image/png": "[encoded data removed]",
      "text/plain": [
       "<Figure size 600x300 with 1 Axes>"
      ]
     },
     "metadata": {
      "needs_background": "light"
     },
     "output_type": "display_data"
    }
   ],
   "source": [
    "xax = np.array(np.arange(1,21))\n",
    "fg = plt.figure(figsize=(6,3),dpi=100)\n",
    "ax = plt.subplot(111)\n",
    "ax.set_title('Training and Test Accuracy with minimum number of samples to split')\n",
    "ax.set_xlabel('min_sample_split')\n",
    "ax.set_ylabel('accuracy')\n",
    "ax.set_xticks(n_splits)\n",
    "plt.plot(n_splits,train_acc,color='b',label='train')\n",
    "plt.plot(n_splits,test_acc,color='r',label='test')\n",
    "plt.legend(loc=1)\n",
    "plt.show()"
   ]
  },
  {
   "cell_type": "markdown",
   "metadata": {},
   "source": [
    "Für eine kleine Anzahl von Splits haben wir ein starkes overfitting. Hohe Trainingsgenauigkeit. Die Testgenaugkeit erreicht bei 30 ihr Maximum und verbessert sich nicht. "
   ]
  },
  {
   "cell_type": "code",
   "execution_count": 21,
   "metadata": {},
   "outputs": [],
   "source": [
    "# Experimentieren mit der maximalen Tiefe des Baumes max_depth\n",
    "\n",
    "m_depth = [2, 5, 10, 15, 20, 25, 30, 35, 40]\n",
    "n = len(m_depth)\n",
    "train_acc = np.zeros((n),dtype=np.float32)\n",
    "test_acc = np.zeros((n),dtype=np.float32)"
   ]
  },
  {
   "cell_type": "code",
   "execution_count": 22,
   "metadata": {},
   "outputs": [
    {
     "name": "stdout",
     "output_type": "stream",
     "text": [
      "training and test accuracy for max_depth=02: 0.814 0.806\n",
      "training and test accuracy for max_depth=05: 0.815 0.806\n",
      "training and test accuracy for max_depth=10: 0.817 0.806\n",
      "training and test accuracy for max_depth=15: 0.880 0.802\n",
      "training and test accuracy for max_depth=20: 0.987 0.797\n",
      "training and test accuracy for max_depth=25: 1.000 0.791\n",
      "training and test accuracy for max_depth=30: 1.000 0.793\n",
      "training and test accuracy for max_depth=35: 1.000 0.792\n",
      "training and test accuracy for max_depth=40: 1.000 0.794\n"
     ]
    }
   ],
   "source": [
    "for i in range(n):\n",
    "    rf = RandomForestClassifier(max_depth=m_depth[i], n_estimators=100, min_samples_split=2, min_samples_leaf=1, random_state=0)\n",
    "    rf.fit(xt, yt)\n",
    "\n",
    "    yt_pred = rf.predict(xt)\n",
    "    yv_pred = rf.predict(xv)\n",
    "    train_acc[i] = accuracy_score(yt_pred, yt)\n",
    "    test_acc[i] = accuracy_score(yv_pred, yv)\n",
    "    print(\"training and test accuracy for max_depth={:02.0f}: {:5.3f} {:5.3f}\".format(\n",
    "        m_depth[i], train_acc[i],test_acc[i]))"
   ]
  },
  {
   "cell_type": "code",
   "execution_count": 23,
   "metadata": {},
   "outputs": [
    {
     "data": {
      "image/png": "[encoded data removed]",
      "text/plain": [
       "<Figure size 600x300 with 1 Axes>"
      ]
     },
     "metadata": {
      "needs_background": "light"
     },
     "output_type": "display_data"
    }
   ],
   "source": [
    "xax = np.array(np.arange(1,21))\n",
    "fg = plt.figure(figsize=(6,3),dpi=100)\n",
    "ax = plt.subplot(111)\n",
    "ax.set_title('Training and Test Accuracy with maximum depth')\n",
    "ax.set_xlabel('max_depth')\n",
    "ax.set_ylabel('accuracy')\n",
    "ax.set_xticks(m_depth)\n",
    "plt.plot(m_depth,train_acc,color='b',label='train')\n",
    "plt.plot(m_depth,test_acc,color='r',label='test')\n",
    "plt.legend(loc=1)\n",
    "plt.show()"
   ]
  },
  {
   "cell_type": "markdown",
   "metadata": {},
   "source": [
    "Für kleine max_depth sind Trainings- und Testaccuracy sehr ausbalanciert. Wenn die Tiefe aber größer als 10 eird steigt die Trainingsgenauigkeit signifikant an, während die Testgenauigkeit leicht sinkt. Das beeutet, wir haben ein Overfiting. Random Forest wird zu komplex weil die Bäume zu komplex werden."
   ]
  },
  {
   "cell_type": "code",
   "execution_count": 24,
   "metadata": {},
   "outputs": [
    {
     "name": "stdout",
     "output_type": "stream",
     "text": [
      "[1, 5, 25, 45, 65, 85, 100, 150, 200, 250, 300, 350, 400, 450, 500]\n"
     ]
    }
   ],
   "source": [
    "# Experimentieren mit der Anzahl an Entscheidungsbäumen\n",
    "\n",
    "n_trees = [1]\n",
    "n_trees.extend(list(range(5,100,20)))\n",
    "n_trees.extend(range(100,501,50))\n",
    "print(n_trees)\n",
    "\n",
    "n = len(n_trees)\n",
    "train_acc = np.zeros((n),dtype=np.float32)\n",
    "test_acc = np.zeros((n),dtype=np.float32)"
   ]
  },
  {
   "cell_type": "code",
   "execution_count": 25,
   "metadata": {},
   "outputs": [
    {
     "name": "stdout",
     "output_type": "stream",
     "text": [
      "training and test accuracy for n_estimators=01: 0.886 0.696\n",
      "training and test accuracy for n_estimators=05: 0.966 0.759\n",
      "training and test accuracy for n_estimators=25: 0.996 0.790\n",
      "training and test accuracy for n_estimators=45: 0.999 0.791\n",
      "training and test accuracy for n_estimators=65: 1.000 0.791\n",
      "training and test accuracy for n_estimators=85: 1.000 0.792\n",
      "training and test accuracy for n_estimators=100: 1.000 0.794\n",
      "training and test accuracy for n_estimators=150: 1.000 0.793\n",
      "training and test accuracy for n_estimators=200: 1.000 0.792\n",
      "training and test accuracy for n_estimators=250: 1.000 0.793\n",
      "training and test accuracy for n_estimators=300: 1.000 0.792\n",
      "training and test accuracy for n_estimators=350: 1.000 0.793\n",
      "training and test accuracy for n_estimators=400: 1.000 0.793\n",
      "training and test accuracy for n_estimators=450: 1.000 0.794\n",
      "training and test accuracy for n_estimators=500: 1.000 0.794\n"
     ]
    }
   ],
   "source": [
    "for i in range(n):\n",
    "    rf = RandomForestClassifier(n_estimators=n_trees[i], max_depth=None, min_samples_split=2, min_samples_leaf=1, random_state=0)\n",
    "    rf.fit(xt, yt)\n",
    "\n",
    "    yt_pred = rf.predict(xt)\n",
    "    yv_pred = rf.predict(xv)\n",
    "    train_acc[i] = accuracy_score(yt_pred, yt)\n",
    "    test_acc[i] = accuracy_score(yv_pred, yv)\n",
    "    print(\"training and test accuracy for n_estimators={:02.0f}: {:5.3f} {:5.3f}\".format(\n",
    "        n_trees[i], train_acc[i], test_acc[i]))"
   ]
  },
  {
   "cell_type": "code",
   "execution_count": 26,
   "metadata": {
    "scrolled": true
   },
   "outputs": [
    {
     "data": {
      "image/png": "[encoded data removed]",
      "text/plain": [
       "<Figure size 600x300 with 1 Axes>"
      ]
     },
     "metadata": {
      "needs_background": "light"
     },
     "output_type": "display_data"
    }
   ],
   "source": [
    "xax = np.array(np.arange(1,21))\n",
    "fg = plt.figure(figsize=(6,3),dpi=100)\n",
    "ax = plt.subplot(111)\n",
    "ax.set_title('Training and Test Accuracy with number of decision trees')\n",
    "ax.set_xlabel('n_estimators')\n",
    "ax.set_ylabel('accuracy')\n",
    "ax.set_xticks(n_trees)\n",
    "plt.xticks(rotation=45)\n",
    "plt.plot(n_trees,train_acc,color='b',label='train')\n",
    "plt.plot(n_trees,test_acc,color='r',label='test')\n",
    "plt.legend(loc=1)\n",
    "plt.show()"
   ]
  },
  {
   "cell_type": "markdown",
   "metadata": {},
   "source": [
    "Für wenige estimators ist die Genauigkeit gering. Wir haben underfitting und es kein Random Forest.  und steigt rasch an und teigt ab 25 Bäumen nicht mehr signifikant an. "
   ]
  },
  {
   "cell_type": "markdown",
   "metadata": {},
   "source": [
    "## Teil 5: Optimieren Sie Hyperparameter mithilfe der Gittersuche\n",
    "\n",
    "Hinweis: GridsearchCV benutzen um das beste bzw. die besten Hyperparameter festzustellen. "
   ]
  },
  {
   "cell_type": "code",
   "execution_count": 15,
   "metadata": {},
   "outputs": [],
   "source": [
    "#n_splits = [5, 10, 15, 20, 25, 30, 40, 50]\n",
    "#m_depth = [None, 2, 4, 6, 8, 10, 12]\n",
    "#n_trees = [100, 150, 200]\n",
    "#n_leaves = [1, 10, 30, 50]\n",
    "\n",
    "n_splits = [5, 10, 15, 20]\n",
    "m_depth = [None, 4, 6, 10]\n",
    "n_trees = [100]\n",
    "n_leaves = [1, 5, 10, 15]\n",
    "parameters = {\"n_estimators\": n_trees,\n",
    "              \"max_depth\": m_depth,\n",
    "              \"min_samples_split\": n_splits,\n",
    "              \"min_samples_leaf\":n_leaves}\n",
    "\n",
    "# nested cross validation with 4 splits\n",
    "inner_cv = KFold(n_splits=4, shuffle=True, random_state=0)\n",
    "\n",
    "# Grid Search: Grid of parameters\n",
    "random_forest = RandomForestClassifier(random_state=0)\n",
    "best_forest = GridSearchCV(estimator=random_forest, param_grid=parameters, cv=inner_cv)\n"
   ]
  },
  {
   "cell_type": "code",
   "execution_count": 16,
   "metadata": {},
   "outputs": [
    {
     "name": "stdout",
     "output_type": "stream",
     "text": [
      "Fitting of the model needed 1.6e+03 seconds\n"
     ]
    }
   ],
   "source": [
    "t1 = time.time()\n",
    "best_forest.fit(x_train, y_train)\n",
    "t2 = time.time()\n",
    "print('Fitting of the model needed {:6.2} seconds'.format(t2-t1))"
   ]
  },
  {
   "cell_type": "code",
   "execution_count": 17,
   "metadata": {},
   "outputs": [
    {
     "name": "stdout",
     "output_type": "stream",
     "text": [
      "RandomForestClassifier(bootstrap=True, ccp_alpha=0.0, class_weight=None,\n",
      "                       criterion='gini', max_depth=10, max_features='auto',\n",
      "                       max_leaf_nodes=None, max_samples=None,\n",
      "                       min_impurity_decrease=0.0, min_impurity_split=None,\n",
      "                       min_samples_leaf=1, min_samples_split=15,\n",
      "                       min_weight_fraction_leaf=0.0, n_estimators=100,\n",
      "                       n_jobs=None, oob_score=False, random_state=0, verbose=0,\n",
      "                       warm_start=False)\n",
      "{'max_depth': 10, 'min_samples_leaf': 1, 'min_samples_split': 15, 'n_estimators': 100}\n",
      "0.813\n"
     ]
    }
   ],
   "source": [
    "print(best_forest.best_estimator_)\n",
    "print(best_forest.best_params_)\n",
    "print(np.round(best_forest.best_score_,3))\n"
   ]
  },
  {
   "cell_type": "markdown",
   "metadata": {},
   "source": [
    "Das besten Random Forest Modell finden wir für folgende Hyperparameter \n",
    "  - max_depth = 10\n",
    "  - min_samples_leaf = 1\n",
    "  - min_samples_split = 15\n",
    "  - n_estimators = 100\n",
    "  \n",
    "Der Score liegt dafür bei 0.813"
   ]
  },
  {
   "cell_type": "markdown",
   "metadata": {},
   "source": [
    "## Teil 6: Evaluieren Sie das Modell\n",
    "\n",
    "Mit den optimierten Hyperparameter, evaluarieren Sie das Modell mithifle von cross validation. Zusaetzlich, koennen Sie  F1-score, Sensitivity und Specificty Werte fuer ein einzigen train_test_split erzeugen. "
   ]
  },
  {
   "cell_type": "code",
   "execution_count": 42,
   "metadata": {},
   "outputs": [
    {
     "name": "stdout",
     "output_type": "stream",
     "text": [
      "training and test accuracy: 0.813 0.803\n"
     ]
    }
   ],
   "source": [
    "# Jetzt bilden wir den Random Forest mit den besten Werten\n",
    "# Gearbeitet wird mit den Trainings und Testdaten vom ersten train_test_split\n",
    "\n",
    "rf_best = RandomForestClassifier(n_estimators=100, max_depth=10, min_samples_leaf=1, min_samples_split=15, random_state=0)\n",
    "rf_best.fit(x_train, y_train)\n",
    "y_train_pred = rf_best.predict(x_train)\n",
    "y_test_pred = rf_best.predict(x_test)\n",
    "\n",
    "# Überprüfung auf Overfitting - Hat GridSearch gut gearbeitet?\n",
    "train_acc= accuracy_score(y_train_pred, y_train)\n",
    "test_acc= accuracy_score(y_test_pred, y_test)\n",
    "print(\"training and test accuracy: {:5.3f} {:5.3f}\".format(train_acc,test_acc))"
   ]
  },
  {
   "cell_type": "markdown",
   "metadata": {},
   "source": [
    "Sieht optimal aus. Test- und Trainings-Accuracy sind gut ausbalanciert"
   ]
  },
  {
   "cell_type": "code",
   "execution_count": 44,
   "metadata": {},
   "outputs": [
    {
     "name": "stdout",
     "output_type": "stream",
     "text": [
      "sensitivity    0.680\n",
      "specivity      0.930\n",
      "f1-score       0.780\n"
     ]
    },
    {
     "data": {
      "image/png": "[encoded data removed]",
      "text/plain": [
       "<Figure size 432x432 with 2 Axes>"
      ]
     },
     "metadata": {
      "needs_background": "light"
     },
     "output_type": "display_data"
    }
   ],
   "source": [
    "# Evaluation des Modelles mit dem Testdatensatz\n",
    "\n",
    "# Berechung der Test Skill Scores und der Konfusionsmatrix \n",
    "confusion = confusion_matrix(y_test, y_test_pred)\n",
    "tn, fp, fn, tp = confusion.ravel()\n",
    "ap = np.array(np.where(y_test==1)).size\n",
    "an = np.array(np.where(y_test==0)).size\n",
    "sens = np.round(tp/ap,2)\n",
    "spec = np.round(tn/an,2)\n",
    "f1 = np.round(f1_score(y_test, y_test_pred),2)\n",
    "\n",
    "print(\"{:15}{:5.3f}\".format('sensitivity ', sens))\n",
    "print(\"{:15}{:5.3f}\".format('specivity ', spec))\n",
    "print(\"{:15}{:5.3f}\".format('f1-score ', f1))\n",
    "\n",
    "plt.figure(figsize = (6,6))\n",
    "sns.heatmap(confusion, vmin=-1, cmap='PiYG', annot=True)\n",
    "plt.title('Käufer Vorhersage mit Random Forest')\n",
    "plt.yticks(rotation=0)\n",
    "\n",
    "#Nur notwendig, weil Grafik bei einer anderen Version von matplotlib (>3.3) sonst verzerrt. Bekannter Bug.\n",
    "b, t = plt.ylim() # discover the values for bottom and top\n",
    "b += 0.0#5 # Add 0.5 to the bottom\n",
    "t -= 0.5 # Subtract 0.5 from the top\n",
    "plt.ylim(b, t) # update the ylim(bottom, top) values\n",
    "plt.show()"
   ]
  },
  {
   "cell_type": "markdown",
   "metadata": {},
   "source": [
    "Das Modell liefert sehr gute Ergebnisse. Die meisten Labels, etwa 2400, werden richtig vorhergesagt. Die Summe aus True Positive und True Negative. Etwa 590 werden falsch vorhergesagt. Man sieht, dass 80% der Daten richtig vorhergesagt werden."
   ]
  },
  {
   "cell_type": "markdown",
   "metadata": {},
   "source": [
    "## Bonus Teil 1: \n",
    "\n",
    "Können Sie begründen, warum Ihr ausgewähltes Modell eine gute Leistung erbringt? \n",
    "\n",
    "inweis: Falls Sie ein Tree-Modell (wie RandomForrest) gewaehlt haben konnen Sie erst die wichtigen Features anhald _feature _ importances_ erkennen. Dann zeichnen Sie Ihre Daten für 2 der ausgewählten Features (mithilfe von plt.scatter (Feature1, Feature2, c = Label), um zu sehen, wie die Daten verteilt sind"
   ]
  },
  {
   "cell_type": "markdown",
   "metadata": {},
   "source": [
    "Random Forest schafft es nach der Regulierung der Features sehr gute Ergebnisse zu liefen und zeigt eine schöne Abgrenzung der Beiden Klassen im Scatter Plot."
   ]
  },
  {
   "cell_type": "markdown",
   "metadata": {},
   "source": [
    "Decision Boundaries sind der Optimalfall für Entscheidungsbäume. Diese haben wir hier."
   ]
  },
  {
   "cell_type": "code",
   "execution_count": 45,
   "metadata": {},
   "outputs": [
    {
     "name": "stdout",
     "output_type": "stream",
     "text": [
      "Feature ranking:\n",
      "1. feature 3 (0.507322)\n",
      "2. feature 2 (0.422523)\n",
      "3. feature 1 (0.032245)\n",
      "4. feature 0 (0.031166)\n",
      "5. feature 4 (0.003718)\n",
      "6. feature 5 (0.003026)\n"
     ]
    },
    {
     "data": {
      "image/png": "[encoded data removed]",
      "text/plain": [
       "<Figure size 432x288 with 1 Axes>"
      ]
     },
     "metadata": {
      "needs_background": "light"
     },
     "output_type": "display_data"
    }
   ],
   "source": [
    "# https://scikit-learn.org/stable/auto_examples/ensemble/plot_forest_importances.html\n",
    "\n",
    "importances = rf_best.feature_importances_\n",
    "std = np.std([tree.feature_importances_ for tree in rf_best.estimators_],\n",
    "             axis=0)\n",
    "indices = np.argsort(importances)[::-1]\n",
    "\n",
    "# Print the feature ranking\n",
    "print(\"Feature ranking:\")\n",
    "\n",
    "for f in range(x.shape[1]):\n",
    "    print(\"%d. feature %d (%f)\" % (f + 1, indices[f], importances[indices[f]]))\n",
    "\n",
    "# Plot the impurity-based feature importances of the forest\n",
    "plt.figure()\n",
    "plt.title(\"Feature importances\")\n",
    "plt.bar(range(x.shape[1]), importances[indices],\n",
    "        color=\"r\", yerr=std[indices], align=\"center\")\n",
    "plt.xticks(range(x.shape[1]), indices)\n",
    "plt.xlim([-1, x.shape[1]])\n",
    "plt.show()\n"
   ]
  },
  {
   "cell_type": "code",
   "execution_count": 46,
   "metadata": {},
   "outputs": [
    {
     "data": {
      "text/plain": [
       "Index(['Height', 'Weight', 'Age', 'Einkommen', 'Drink_Nein', 'Drink_Oft'], dtype='object')"
      ]
     },
     "execution_count": 46,
     "metadata": {},
     "output_type": "execute_result"
    }
   ],
   "source": [
    "x.columns"
   ]
  },
  {
   "cell_type": "markdown",
   "metadata": {},
   "source": [
    "Die Features  2 (Age) und 3 (Einkommen) sind am wichtigsten und tragen am eintscheidensten zu Vorhersage bei. "
   ]
  },
  {
   "cell_type": "code",
   "execution_count": 53,
   "metadata": {},
   "outputs": [
    {
     "name": "stdout",
     "output_type": "stream",
     "text": [
      "index  importances Feature-Name\n",
      "    5  0.00        Drink_Oft\n",
      "    4  0.00        Drink_Nein\n",
      "    0  0.03        Height\n",
      "    1  0.03        Weight\n",
      "    2  0.42        Age\n",
      "    3  0.51        Einkommen\n"
     ]
    }
   ],
   "source": [
    "# Händische Ausgabe der Feature sortiert nach deren Wichtigkei\n",
    "ind = np.argsort(rf_best.feature_importances_)\n",
    "nf = rf_best.n_features_\n",
    "print('index  importances Feature-Name')\n",
    "for i in range(nf):\n",
    "    print(\"{:5.0f} {:5.2f}        {:}\".format(ind[i],\n",
    "          np.round(np.sort(rf_best.feature_importances_)[i],2),\n",
    "          x.columns[ind[i]]))"
   ]
  },
  {
   "cell_type": "code",
   "execution_count": 69,
   "metadata": {},
   "outputs": [
    {
     "data": {
      "image/png": "[encoded data removed]",
      "text/plain": [
       "<Figure size 600x600 with 1 Axes>"
      ]
     },
     "metadata": {
      "needs_background": "light"
     },
     "output_type": "display_data"
    }
   ],
   "source": [
    "\n",
    "color = ['blue' if label == 0 else 'red' for label in y]\n",
    "\n",
    "plt.figure(figsize=(6,6),dpi=100)\n",
    "plt.title(\"Blaue Punkte kaufen und Grüne kaufen nicht\")\n",
    "im = plt.scatter(x.iloc[:,2], x.iloc[:,3], c=color)\n",
    "plt.xlabel('Age')\n",
    "plt.ylabel('Einkommen')\n",
    "plt.show()"
   ]
  },
  {
   "cell_type": "markdown",
   "metadata": {},
   "source": [
    "## Bonus Teil 2: \n",
    "Führen Sie eine nested Kreuzvalidierung (cross-validation) für den ausgewaehlten Features durch"
   ]
  },
  {
   "cell_type": "code",
   "execution_count": 58,
   "metadata": {},
   "outputs": [],
   "source": [
    "from sklearn.feature_selection import RFECV\n",
    "\n",
    "nested_cv = KFold(n_splits=5, shuffle=True, random_state=0)\n",
    "\n",
    "rf_2f = RandomForestClassifier(n_estimators=100, \n",
    "                               max_depth=10, \n",
    "                               min_samples_leaf=1, \n",
    "                               min_samples_split=15, \n",
    "                               random_state=0)"
   ]
  },
  {
   "cell_type": "code",
   "execution_count": 60,
   "metadata": {},
   "outputs": [
    {
     "name": "stdout",
     "output_type": "stream",
     "text": [
      "RFECV needed 0.000999 seconds\n"
     ]
    }
   ],
   "source": [
    "t1 = time.time()\n",
    "selector = RFECV(rf_2f, min_features_to_select=1, step=1, cv=nested_cv)\n",
    "t2 = time.time()\n",
    "print('RFECV needed {:6.3} seconds'.format(t2-t1))"
   ]
  },
  {
   "cell_type": "code",
   "execution_count": 84,
   "metadata": {},
   "outputs": [],
   "source": [
    "# Auswahl der erste 4 Features vom Trainingsdatensatz\n",
    "x_neu = x_train[:,1:4]"
   ]
  },
  {
   "cell_type": "code",
   "execution_count": 85,
   "metadata": {},
   "outputs": [
    {
     "name": "stdout",
     "output_type": "stream",
     "text": [
      "Fitting needed 1.23e+02 seconds\n"
     ]
    }
   ],
   "source": [
    "t1 = time.time()\n",
    "selector = selector.fit(x_neu, y_train)\n",
    "t2 = time.time()\n",
    "print('Fitting needed {:6.3} seconds'.format(t2-t1))"
   ]
  },
  {
   "cell_type": "code",
   "execution_count": 86,
   "metadata": {},
   "outputs": [
    {
     "name": "stdout",
     "output_type": "stream",
     "text": [
      "[1 1 1]\n",
      "[0.69066667 0.81166667 0.81233333]\n",
      "[ True  True  True]\n"
     ]
    }
   ],
   "source": [
    "print(selector.ranking_)\n",
    "print(selector.grid_scores_)\n",
    "print(selector.support_)"
   ]
  },
  {
   "cell_type": "markdown",
   "metadata": {},
   "source": [
    "3 Features wurden ausgewählt. Diese sind Feature 1, 2, 3 bzw. 'Weight', 'Age' und 'Einkommen'. "
   ]
  },
  {
   "cell_type": "code",
   "execution_count": 87,
   "metadata": {},
   "outputs": [
    {
     "name": "stdout",
     "output_type": "stream",
     "text": [
      "training and test accuracy: 0.814 0.803\n"
     ]
    }
   ],
   "source": [
    "y_train_pred = selector.predict(x_neu)\n",
    "y_test_pred = selector.predict(x_test[:,1:4])\n",
    "\n",
    "# Überprüfung auf Overfitting - Hat GridSearch gut gearbeitet?\n",
    "train_acc= accuracy_score(y_train_pred, y_train)\n",
    "test_acc= accuracy_score(y_test_pred, y_test)\n",
    "print(\"training and test accuracy: {:5.3f} {:5.3f}\".format(train_acc,test_acc))"
   ]
  },
  {
   "cell_type": "markdown",
   "metadata": {},
   "source": [
    "Die Genauigkeit ist mit 3 Features im Vergleich zu allen Features um 0.001 gestiegen."
   ]
  },
  {
   "cell_type": "markdown",
   "metadata": {},
   "source": [
    "## Bonus Teil 3:\n",
    "\n",
    "Gibt es einen Standard-Kauefer? Anders gesagt, gibt es einen typischen Kunde der hoechstwahrscheinlich kaeuft? \n",
    "\n",
    "Achtung: diese Aufgabe ist etwa schwrieger als die anderen. "
   ]
  },
  {
   "cell_type": "code",
   "execution_count": 9,
   "metadata": {},
   "outputs": [],
   "source": [
    "# Platz fuer Ihren Code/Anworten"
   ]
  }
 ],
 "metadata": {
  "kernelspec": {
   "display_name": "Python 3",
   "language": "python",
   "name": "python3"
  },
  "language_info": {
   "codemirror_mode": {
    "name": "ipython",
    "version": 3
   },
   "file_extension": ".py",
   "mimetype": "text/x-python",
   "name": "python",
   "nbconvert_exporter": "python",
   "pygments_lexer": "ipython3",
   "version": "3.7.3"
  }
 },
 "nbformat": 4,
 "nbformat_minor": 2
}
